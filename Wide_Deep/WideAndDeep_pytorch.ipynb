{
 "cells": [
  {
   "cell_type": "code",
   "execution_count": 1,
   "id": "9a22f814-8815-406a-a9dd-44915b48835f",
   "metadata": {},
   "outputs": [
    {
     "name": "stdout",
     "output_type": "stream",
     "text": [
      "Model Architecture\n",
      "Sequential(\n",
      "  (0): Linear(in_features=352, out_features=16, bias=True)\n",
      "  (1): ReLU()\n",
      "  (2): BatchNorm1d(16, eps=1e-05, momentum=0.1, affine=True, track_running_stats=True)\n",
      "  (3): Dropout(p=0.2, inplace=False)\n",
      "  (4): Linear(in_features=16, out_features=16, bias=True)\n",
      "  (5): ReLU()\n",
      "  (6): BatchNorm1d(16, eps=1e-05, momentum=0.1, affine=True, track_running_stats=True)\n",
      "  (7): Dropout(p=0.2, inplace=False)\n",
      "  (8): Linear(in_features=16, out_features=1, bias=True)\n",
      ")\n",
      "train_length,valid_length 900000 100000\n"
     ]
    },
    {
     "name": "stderr",
     "output_type": "stream",
     "text": [
      "100%|███████████████████████████| 3516/3516 [00:28<00:00, 121.45it/s, loss=0.39]\n",
      "100%|██████████████████████████████████████| 3516/3516 [00:09<00:00, 372.00it/s]\n",
      "100%|████████████████████████████████████████| 391/391 [00:01<00:00, 370.24it/s]\n"
     ]
    },
    {
     "name": "stdout",
     "output_type": "stream",
     "text": [
      "epoch:0：\n",
      "Train AUC:0.8105597391608654\n",
      "Test AUC:0.7629090273954882\n"
     ]
    },
    {
     "name": "stderr",
     "output_type": "stream",
     "text": [
      "100%|███████████████████████████| 3516/3516 [00:28<00:00, 122.94it/s, loss=0.36]\n",
      "100%|██████████████████████████████████████| 3516/3516 [00:09<00:00, 373.65it/s]\n",
      "100%|████████████████████████████████████████| 391/391 [00:01<00:00, 373.87it/s]\n"
     ]
    },
    {
     "name": "stdout",
     "output_type": "stream",
     "text": [
      "epoch:1：\n",
      "Train AUC:0.8265656763521745\n",
      "Test AUC:0.7659153941649471\n"
     ]
    },
    {
     "name": "stderr",
     "output_type": "stream",
     "text": [
      "100%|██████████████████████████| 3516/3516 [00:28<00:00, 123.15it/s, loss=0.338]\n",
      "100%|██████████████████████████████████████| 3516/3516 [00:09<00:00, 372.97it/s]\n",
      "100%|████████████████████████████████████████| 391/391 [00:01<00:00, 371.17it/s]\n"
     ]
    },
    {
     "name": "stdout",
     "output_type": "stream",
     "text": [
      "epoch:2：\n",
      "Train AUC:0.8177402340059204\n",
      "Test AUC:0.7562652667963806\n"
     ]
    },
    {
     "name": "stderr",
     "output_type": "stream",
     "text": [
      "100%|██████████████████████████| 3516/3516 [00:28<00:00, 121.72it/s, loss=0.321]\n",
      "100%|██████████████████████████████████████| 3516/3516 [00:09<00:00, 370.85it/s]\n",
      "100%|████████████████████████████████████████| 391/391 [00:01<00:00, 373.18it/s]\n"
     ]
    },
    {
     "name": "stdout",
     "output_type": "stream",
     "text": [
      "epoch:3：\n",
      "Train AUC:0.8077062039166588\n",
      "Test AUC:0.7490523910157451\n"
     ]
    },
    {
     "name": "stderr",
     "output_type": "stream",
     "text": [
      "100%|██████████████████████████| 3516/3516 [00:28<00:00, 122.08it/s, loss=0.309]\n",
      "100%|██████████████████████████████████████| 3516/3516 [00:09<00:00, 373.59it/s]\n",
      "100%|████████████████████████████████████████| 391/391 [00:01<00:00, 371.06it/s]\n"
     ]
    },
    {
     "name": "stdout",
     "output_type": "stream",
     "text": [
      "epoch:4：\n",
      "Train AUC:0.7959927671296531\n",
      "Test AUC:0.7410981605108372\n"
     ]
    },
    {
     "name": "stderr",
     "output_type": "stream",
     "text": [
      "100%|██████████████████████████| 3516/3516 [00:29<00:00, 120.58it/s, loss=0.308]\n",
      "100%|██████████████████████████████████████| 3516/3516 [00:09<00:00, 362.25it/s]\n",
      "100%|████████████████████████████████████████| 391/391 [00:01<00:00, 367.30it/s]\n"
     ]
    },
    {
     "name": "stdout",
     "output_type": "stream",
     "text": [
      "epoch:5：\n",
      "Train AUC:0.795249257597784\n",
      "Test AUC:0.7399745178203014\n"
     ]
    },
    {
     "name": "stderr",
     "output_type": "stream",
     "text": [
      "100%|██████████████████████████| 3516/3516 [00:30<00:00, 116.08it/s, loss=0.297]\n",
      "100%|██████████████████████████████████████| 3516/3516 [00:09<00:00, 357.28it/s]\n",
      "100%|████████████████████████████████████████| 391/391 [00:01<00:00, 364.03it/s]\n"
     ]
    },
    {
     "name": "stdout",
     "output_type": "stream",
     "text": [
      "epoch:6：\n",
      "Train AUC:0.791811901289297\n",
      "Test AUC:0.7384085020627699\n"
     ]
    },
    {
     "name": "stderr",
     "output_type": "stream",
     "text": [
      "100%|██████████████████████████| 3516/3516 [00:30<00:00, 114.19it/s, loss=0.301]\n",
      "100%|██████████████████████████████████████| 3516/3516 [00:09<00:00, 375.34it/s]\n",
      "100%|████████████████████████████████████████| 391/391 [00:01<00:00, 366.67it/s]\n"
     ]
    },
    {
     "name": "stdout",
     "output_type": "stream",
     "text": [
      "epoch:7：\n",
      "Train AUC:0.7901475597138979\n",
      "Test AUC:0.7372659341772564\n"
     ]
    },
    {
     "name": "stderr",
     "output_type": "stream",
     "text": [
      "100%|███████████████████████████| 3516/3516 [03:16<00:00, 17.85it/s, loss=0.292]\n",
      "100%|██████████████████████████████████████| 3516/3516 [00:12<00:00, 281.25it/s]\n",
      "100%|████████████████████████████████████████| 391/391 [00:01<00:00, 288.45it/s]\n"
     ]
    },
    {
     "name": "stdout",
     "output_type": "stream",
     "text": [
      "epoch:8：\n",
      "Train AUC:0.7838541090138819\n",
      "Test AUC:0.7317181154344692\n"
     ]
    },
    {
     "name": "stderr",
     "output_type": "stream",
     "text": [
      "100%|███████████████████████████| 3516/3516 [00:32<00:00, 107.66it/s, loss=0.29]\n",
      "100%|██████████████████████████████████████| 3516/3516 [00:09<00:00, 356.28it/s]\n",
      "100%|████████████████████████████████████████| 391/391 [00:01<00:00, 359.99it/s]"
     ]
    },
    {
     "name": "stdout",
     "output_type": "stream",
     "text": [
      "epoch:9：\n",
      "Train AUC:0.7844823313160657\n",
      "Test AUC:0.7339091035210827\n",
      "train_auc [0.8105597391608654, 0.8265656763521745, 0.8177402340059204, 0.8077062039166588, 0.7959927671296531, 0.795249257597784, 0.791811901289297, 0.7901475597138979, 0.7838541090138819, 0.7844823313160657]\n",
      "test_auc [0.7629090273954882, 0.7659153941649471, 0.7562652667963806, 0.7490523910157451, 0.7410981605108372, 0.7399745178203014, 0.7384085020627699, 0.7372659341772564, 0.7317181154344692, 0.7339091035210827]\n"
     ]
    },
    {
     "name": "stderr",
     "output_type": "stream",
     "text": [
      "\n"
     ]
    }
   ],
   "source": [
    "import numpy as np\n",
    "import pandas as pd\n",
    "import torch\n",
    "from WideAndDeep_pytorch.wide_deep import WideAndDeepModel\n",
    "from WideAndDeep_pytorch.avazu import AvazuDataset\n",
    "from WideAndDeep_pytorch.train import train,test,EarlyStopper\n",
    "from torch.utils.data import DataLoader\n",
    "from IPython.core.interactiveshell import  InteractiveShell\n",
    "InteractiveShell.ast_node_interactivity='all'\n",
    "pd.set_option('max_columns',600)\n",
    "pd.set_option('max_rows',500)\n",
    "torch.manual_seed(0)\n",
    "\n",
    "# load dataset\n",
    "dataset=AvazuDataset('./data/train_150m.csv',rebuild_cache=False)\n",
    "model=WideAndDeepModel(dataset.field_dims, embed_dim=16,mlp_dims=(16, 16), dropout=0.2)\n",
    "\n",
    "\n",
    "#split dataset into train/test\n",
    "train_length = int(len(dataset) * 0.9)\n",
    "valid_length = int(len(dataset) * 0.1)\n",
    "print(\"train_length,valid_length\",train_length,valid_length)\n",
    "test_length = len(dataset) - train_length - valid_length\n",
    "train_dataset, valid_dataset, test_dataset = torch.utils.data.random_split(\n",
    "    dataset, (train_length, valid_length, test_length))\n",
    "\n",
    "#DataLoader\n",
    "train_data_loader = DataLoader(train_dataset, batch_size=256, num_workers=0)\n",
    "valid_data_loader = DataLoader(valid_dataset, batch_size=256, num_workers=0)\n",
    "test_data_loader = DataLoader(test_dataset, batch_size=256, num_workers=0)\n",
    "\n",
    "\n",
    "\n",
    "criterion = torch.nn.BCELoss()\n",
    "optimizer = torch.optim.Adam(params=model.parameters(), lr=0.001, weight_decay=0.000001)\n",
    "\n",
    "# Training\n",
    "train_auc = []\n",
    "test_auc = []\n",
    "\n",
    "for epoch_i in range(10):\n",
    "    device = torch.device('cuda' if torch.cuda.is_available else 'cpu')\n",
    "    #device = None\n",
    "    train(model, optimizer, train_data_loader, criterion, device=device)\n",
    "    auc_train = test(model, train_data_loader, device=device) # test\n",
    "    auc_valid = test(model, valid_data_loader, device=device)\n",
    "    #auc_test = test(model, test_data_loader, device=None)\n",
    "    print('epoch:{}：'.format(epoch_i))\n",
    "    print('Train AUC:{}'.format(auc_train))\n",
    "    print('Test AUC:{}'.format(auc_valid))\n",
    "    train_auc.append(auc_train)\n",
    "    test_auc.append(auc_valid)\n",
    "\n",
    "print('train_auc',train_auc)\n",
    "print('test_auc',test_auc)"
   ]
  },
  {
   "cell_type": "code",
   "execution_count": null,
   "id": "88039d1d",
   "metadata": {},
   "outputs": [],
   "source": []
  }
 ],
 "metadata": {
  "kernelspec": {
   "display_name": "Python 3 (ipykernel)",
   "language": "python",
   "name": "python3"
  },
  "language_info": {
   "codemirror_mode": {
    "name": "ipython",
    "version": 3
   },
   "file_extension": ".py",
   "mimetype": "text/x-python",
   "name": "python",
   "nbconvert_exporter": "python",
   "pygments_lexer": "ipython3",
   "version": "3.8.8"
  }
 },
 "nbformat": 4,
 "nbformat_minor": 5
}
